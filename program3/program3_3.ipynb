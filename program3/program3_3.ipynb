{
 "cells": [
  {
   "cell_type": "code",
   "execution_count": 1,
   "metadata": {},
   "outputs": [],
   "source": [
    "import pandas as pd\n",
    "import numpy as np\n",
    "import matplotlib.pyplot as plt\n",
    "from sklearn.neural_network import MLPRegressor\n",
    "from sklearn.model_selection import GridSearchCV, train_test_split\n",
    "from sklearn.preprocessing import StandardScaler\n",
    "from sklearn import preprocessing\n",
    "import warnings\n",
    "warnings.filterwarnings(\"ignore\")"
   ]
  },
  {
   "cell_type": "code",
   "execution_count": 2,
   "metadata": {},
   "outputs": [
    {
     "name": "stdout",
     "output_type": "stream",
     "text": [
      "Procent przewidywanych próbek: 3.97\n",
      "File: AMP_data.csv\n"
     ]
    }
   ],
   "source": [
    "# lista nazw plików\n",
    "files = [\"AOS.csv\"]# \"AMT_data.csv\", \"AMZN_data.csv\", \"ANDV_data.csv\", \"ANSS_data.csv\", \"ANTM_data.csv\", \"AON_data.csv\", \"AOS_data.csv\", \"APA_data.csv\", \"APC_data.csv\", \"APD_data.csv\", \"APH_data.csv\", \"APTV_data.csv\", \"ARE_data.csv\", \"ARNC_data.csv\", \"ATVI_data.csv\", \"AVB_data.csv\", \"AVGO_data.csv\", \"AVY_data.csv\", \"AWK_data.csv\", \"AXP_data.csv\", \"AYI_data.csv\", \"AZO_data.csv\", \"A_data.csv\", \"ADP_data.csv\", \"ADSK_data.csv\", \"ADS_data.csv\", \"AEE_data.csv\", \"AEP_data.csv\", \"AES_data.csv\", \"AET_data.csv\", \"AFL_data.csv\", \"AGN_data.csv\", \"AIG_data.csv\", \"AIV_data.csv\", \"AIZ_data.csv\", \"AJG_data.csv\", \"AKAM_data.csv\", \"ALB_data.csv\", \"ALGN_data.csv\", \"ALK_data.csv\", \"ALLE_data.csv\", \"ALL_data.csv\", \"ALXN_data.csv\", \"AMAT_data.csv\", \"AMD_data.csv\", \"AME_data.csv\", \"AMGN_data.csv\", \"AMG_data.csv\", \"AAL_data.csv\", \"AAPL_data.csv\", \"AAP_data.csv\", \"ABBV_data.csv\", \"ABC_data.csv\", \"ABT_data.csv\", \"ACN_data.csv\", \"ADBE_data.csv\", \"ADI_data.csv\", \"ADM_data.csv\"]\n",
    "\n",
    "K = 50\n",
    "Procent = K/1259*100\n",
    "print(\"Procent przewidywanych próbek: %.2f\" % (Procent))\n",
    "\n",
    "# pętla przez wszystkie pliki\n",
    "for file in files:\n",
    "    print(\"File:\", file)\n",
    "    \n",
    "    # wczytanie danych\n",
    "    dt = pd.read_csv(file)\n",
    "    dt = dt.drop(columns=['date', 'Name'])\n",
    "    \n",
    "    # dodanie kolumny prediction\n",
    "    dt['prediction'] = dt[['open']].shift(-K)\n",
    "    \n",
    "    # wejściowe dane\n",
    "    X = np.array(dt.drop(['prediction'], 1))\n",
    "    X = preprocessing.scale(X)\n",
    "    X_dni = X[-K:]\n",
    "    X = X[:-K]\n",
    "    \n",
    "    # wyjściowe dane\n",
    "    y = np.array(dt['prediction'])\n",
    "    y = y[:-K]\n",
    "    \n",
    "    # podział danych na zbiór treningowy i testowy\n",
    "    X_train, X_test, y_train, y_test = train_test_split(X, y, test_size=0.2)\n",
    "    \n",
    "    # model\n",
    "    mlp = MLPRegressor(random_state=1, max_iter=500)\n",
    "    \n",
    "    # wyszukiwanie najlepszych parametrów\n",
    "    parametry = {\n",
    "    'learning_rate_init': [0.1, 0.01, 0.001], \n",
    "    'hidden_layer_sizes': [20, 40, 60, 80, 100], \n",
    "    'solver': ['adam', 'lbfgs', 'sgd'], \n",
    "    'learning_rate': ['constant', 'adaptive']\n",
    "    }\n",
    "    clf = GridSearchCV(mlp, parametry)\n",
    "    clf.fit(X_train, y_train)\n",
    "    print(\"Best params: \", clf.best_params_)\n",
    "    mlp.fit(X_train, y_train)\n",
    "\n",
    "    # Oceń dokładność modelu\n",
    "    print(\"Dokladność (train): \", mlp.score(X_train, y_train)*100, '%')\n",
    "    print(\"Dokladność (test): \", mlp.score(X_test, y_test)*100, '%')\n",
    "\n",
    "    # Dokonaj predykcji na kolejnych K wierszach\n",
    "    prediction_dni = mlp.predict(X_dni)\n",
    "    print(\"Predykcje dla kolejnych K wierszy: \", prediction_dni)"
   ]
  },
  {
   "cell_type": "code",
   "execution_count": null,
   "metadata": {},
   "outputs": [],
   "source": []
  }
 ],
 "metadata": {
  "kernelspec": {
   "display_name": "Python 3",
   "language": "python",
   "name": "python3"
  },
  "language_info": {
   "codemirror_mode": {
    "name": "ipython",
    "version": 3
   },
   "file_extension": ".py",
   "mimetype": "text/x-python",
   "name": "python",
   "nbconvert_exporter": "python",
   "pygments_lexer": "ipython3",
   "version": "3.10.11"
  },
  "orig_nbformat": 4
 },
 "nbformat": 4,
 "nbformat_minor": 2
}
